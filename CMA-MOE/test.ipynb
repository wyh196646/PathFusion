{
 "cells": [
  {
   "cell_type": "code",
   "execution_count": 1,
   "metadata": {},
   "outputs": [],
   "source": [
    "import pickle as pkl\n",
    "data_path = 'data.pkl'\n",
    "with open(data_path, 'rb') as f:\n",
    "    batch = pkl.load(f)"
   ]
  },
  {
   "cell_type": "code",
   "execution_count": 2,
   "metadata": {},
   "outputs": [],
   "source": [
    "from models.CMA import LSTCWA, MultiDimAligner\n",
    "import torch"
   ]
  },
  {
   "cell_type": "code",
   "execution_count": null,
   "metadata": {},
   "outputs": [],
   "source": [
    "device = 'cuda' if torch.cuda.is_available() else 'cpu'\n",
    "D_TARGET   = 512\n",
    "NUM_TOKENS = 64\n",
    "WIN        = 64\n",
    "STRIDE     = 32\n",
    "\n",
    "aligner   = MultiDimAligner(D_TARGET).to(device)\n",
    "compressor= LSTCWA(dim=D_TARGET, num_tokens=NUM_TOKENS,\n",
    "                    win_size=WIN, stride=STRIDE).to(device)\n",
    "\n",
    "# --------- 单 batch 推理示例 ---------\n",
    "#compressed_batch = []\n",
    "# \n",
    "# # 每张 WSI 输出一个 [L, D] token\n",
    "tokens_per_backbone = []\n",
    "for feats_list, coords_list, pad_list in zip(batch['imgs_list'],\n",
    "                                            batch['coords_list'],\n",
    "                                            batch['pad_mask_list']):\n",
    "    \"\"\"注意：\n",
    "       - feats_list  : List[Tensor]，长度 = backbone 数\n",
    "         每个 tensor 形状 [T_i, D_in_i]\n",
    "       - coords_list : List[Tensor]，同上\n",
    "       - pad_list    : List[BoolTensor]，同上\n",
    "    \"\"\"\n",
    "    \n",
    "    feats = feats.to(device)          # [T, D_in]\n",
    "    coords= coords.to(device)\n",
    "    pad   = pad.to(device)\n",
    "    feats_ali = aligner(feats)        # → [T, D_TARGET]\n",
    "    Z = compressor(feats_ali, coords, pad)  # [L, D_TARGET]\n",
    "    tokens_per_backbone.append(Z)\n",
    "\n",
    "\n"
   ]
  },
  {
   "cell_type": "code",
   "execution_count": 25,
   "metadata": {},
   "outputs": [
    {
     "name": "stdout",
     "output_type": "stream",
     "text": [
      "torch.Size([64, 512])\n",
      "torch.Size([64, 512])\n",
      "torch.Size([64, 512])\n"
     ]
    }
   ],
   "source": [
    "for i in tokens_per_backbone:\n",
    "    print(i.shape)"
   ]
  },
  {
   "cell_type": "code",
   "execution_count": 2,
   "metadata": {},
   "outputs": [
    {
     "name": "stdout",
     "output_type": "stream",
     "text": [
      "正在删除文件夹: /home/yuhaowang/project/CMA/CMA-MOE/output_2/AIDPATH_GRADE/moe\n",
      "正在删除文件夹: /home/yuhaowang/project/CMA/CMA-MOE/output_2/DORID_6/moe\n",
      "正在删除文件夹: /home/yuhaowang/project/CMA/CMA-MOE/output_2/BCNB_ALN/moe\n",
      "正在删除文件夹: /home/yuhaowang/project/CMA/CMA-MOE/output_2/BRACS_COARSE/moe\n",
      "正在删除文件夹: /home/yuhaowang/project/CMA/CMA-MOE/output_2/SLNBREAST_SUBTYPE/moe\n",
      "正在删除文件夹: /home/yuhaowang/project/CMA/CMA-MOE/output_2/TCGA-BRCA-SUBTYPE/moe\n"
     ]
    }
   ],
   "source": [
    "import os\n",
    "import shutil\n",
    "\n",
    "def delete_folders_by_keyword(root_path, keyword):\n",
    "    \"\"\"\n",
    "    递归删除 root_path 下所有名称包含 keyword 的子文件夹\n",
    "    :param root_path: 要搜索的根目录\n",
    "    :param keyword: 要匹配的关键词（区分大小写）\n",
    "    \"\"\"\n",
    "    for root, dirs, files in os.walk(root_path, topdown=False):\n",
    "        for dir_name in dirs:\n",
    "            if keyword in dir_name:\n",
    "                folder_path = os.path.join(root, dir_name)\n",
    "                try:\n",
    "                    print(f\"正在删除文件夹: {folder_path}\")\n",
    "                    shutil.rmtree(folder_path)  # 递归删除整个文件夹\n",
    "                except Exception as e:\n",
    "                    print(f\"删除失败: {folder_path} - {e}\")\n",
    "\n",
    "delete_folders_by_keyword('/home/yuhaowang/project/CMA/CMA-MOE/output_2','moe')"
   ]
  }
 ],
 "metadata": {
  "kernelspec": {
   "display_name": "UNI",
   "language": "python",
   "name": "python3"
  },
  "language_info": {
   "codemirror_mode": {
    "name": "ipython",
    "version": 3
   },
   "file_extension": ".py",
   "mimetype": "text/x-python",
   "name": "python",
   "nbconvert_exporter": "python",
   "pygments_lexer": "ipython3",
   "version": "3.10.16"
  }
 },
 "nbformat": 4,
 "nbformat_minor": 2
}
