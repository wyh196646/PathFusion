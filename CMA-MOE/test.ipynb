{
 "cells": [
  {
   "cell_type": "code",
   "execution_count": 1,
   "metadata": {},
   "outputs": [],
   "source": [
    "import pickle as pkl\n",
    "data_path = 'data.pkl'\n",
    "with open(data_path, 'rb') as f:\n",
    "    batch = pkl.load(f)"
   ]
  },
  {
   "cell_type": "code",
   "execution_count": 2,
   "metadata": {},
   "outputs": [],
   "source": [
    "from models.CMA import LSTCWA, MultiDimAligner\n",
    "import torch"
   ]
  },
  {
   "cell_type": "code",
   "execution_count": null,
   "metadata": {},
   "outputs": [],
   "source": [
    "device = 'cuda' if torch.cuda.is_available() else 'cpu'\n",
    "D_TARGET   = 512\n",
    "NUM_TOKENS = 64\n",
    "WIN        = 64\n",
    "STRIDE     = 32\n",
    "\n",
    "aligner   = MultiDimAligner(D_TARGET).to(device)\n",
    "compressor= LSTCWA(dim=D_TARGET, num_tokens=NUM_TOKENS,\n",
    "                    win_size=WIN, stride=STRIDE).to(device)\n",
    "\n",
    "# --------- 单 batch 推理示例 ---------\n",
    "#compressed_batch = []       # 每张 WSI 输出一个 [L, D] token\n",
    "for feats_list, coords_list, pad_list in zip(batch['imgs_list'],\n",
    "                                            batch['coords_list'],\n",
    "                                            batch['pad_mask_list']):\n",
    "    \"\"\"注意：\n",
    "       - feats_list  : List[Tensor]，长度 = backbone 数\n",
    "         每个 tensor 形状 [T_i, D_in_i]\n",
    "       - coords_list : List[Tensor]，同上\n",
    "       - pad_list    : List[BoolTensor]，同上\n",
    "    \"\"\"\n",
    "    tokens_per_backbone = []\n",
    "    for feats, coords, pad in zip(feats_list, coords_list, pad_list):\n",
    "        feats = feats.to(device)          # [T, D_in]\n",
    "        coords= coords.to(device)\n",
    "        pad   = pad.to(device)\n",
    "        feats_ali = aligner(feats)        # → [T, D_TARGET]\n",
    "        Z = compressor(feats_ali, coords, pad)  # [L, D_TARGET]\n",
    "        tokens_per_backbone.append(Z)\n",
    "\n",
    "    #fused_Z = torch.stack(tokens_per_backbone).mean(0)  # [L, D_TARGET]\n",
    "    #compressed_batch.append(fused_Z)\n"
   ]
  }
 ],
 "metadata": {
  "kernelspec": {
   "display_name": "UNI",
   "language": "python",
   "name": "python3"
  },
  "language_info": {
   "codemirror_mode": {
    "name": "ipython",
    "version": 3
   },
   "file_extension": ".py",
   "mimetype": "text/x-python",
   "name": "python",
   "nbconvert_exporter": "python",
   "pygments_lexer": "ipython3",
   "version": "3.10.16"
  }
 },
 "nbformat": 4,
 "nbformat_minor": 2
}
