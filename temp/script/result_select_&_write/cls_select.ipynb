{
 "cells": [
  {
   "cell_type": "code",
   "execution_count": 1,
   "metadata": {},
   "outputs": [],
   "source": [
    "from utils import *\n",
    "eval_dir = '/home/yuhaowang/project/FMBC/downstream/finetune/outputs'\n",
    "originl_result_save_dir = '../result/result_csv/original_learning_rate'\n",
    "selected_result_save_dir = '../result/result_csv/learning_rate_select'\n",
    "if not os.path.exists(originl_result_save_dir):\n",
    "    os.makedirs(originl_result_save_dir)\n",
    "if not os.path.exists(selected_result_save_dir):\n",
    "    os.makedirs(selected_result_save_dir)\n",
    "\n",
    "def get_plot_results_optimized(eval_dir):\n",
    "\n",
    "    evaluation_metrics = ['val_bacc', 'val_weighted_f1','val_macro_auroc','val_qwk']#, \n",
    "    csv = get_result_csv(eval_dir, evaluation_metrics)\n",
    "    name = eval_dir.split('/')[-1]\n",
    "    csv.to_csv(f'{originl_result_save_dir}/{name}.csv', index=False)\n",
    "    final_df = select_best_models_with_shared_lr(csv, evaluation_metrics,evaluation_metrics, index=0, include_meanpool=True)\n",
    "    final_df.to_csv(f'{selected_result_save_dir}/{name}.csv', index=False)\n",
    "    \n",
    "for task in os.listdir(eval_dir):\n",
    "    # if task != 'BCNB_ER':\n",
    "    #     continue\n",
    "    try:\n",
    "        get_plot_results_optimized(os.path.join(eval_dir, task))\n",
    "    except:\n",
    "        pass\n",
    "\n",
    "#"
   ]
  },
  {
   "cell_type": "code",
   "execution_count": 1,
   "metadata": {},
   "outputs": [],
   "source": [
    "from utils import *\n",
    "eval_dir = '/home/yuhaowang/project/FMBC/downstream/finetune/outputs'\n",
    "originl_result_save_dir = '../result/result_csv/all_result'\n",
    "\n",
    "if not os.path.exists(originl_result_save_dir):\n",
    "    os.makedirs(originl_result_save_dir)\n",
    "\n",
    "\n",
    "def get_plot_results_optimized(eval_dir):\n",
    "\n",
    "    evaluation_metrics = ['val_bacc', 'val_weighted_f1','val_macro_auroc','val_qwk']#, \n",
    "    csv = get_result_csv(eval_dir, evaluation_metrics)\n",
    "    name = eval_dir.split('/')[-1]\n",
    "    csv.to_csv(f'{originl_result_save_dir}/{name}.csv', index=False)\n",
    "\n",
    "for task in os.listdir(eval_dir):\n",
    "    # if task != 'BCNB_ER':\n",
    "    #     continue\n",
    "    try:\n",
    "        get_plot_results_optimized(os.path.join(eval_dir, task))\n",
    "    except:\n",
    "        pass\n",
    "\n",
    "#"
   ]
  }
 ],
 "metadata": {
  "kernelspec": {
   "display_name": "UNI",
   "language": "python",
   "name": "python3"
  },
  "language_info": {
   "codemirror_mode": {
    "name": "ipython",
    "version": 3
   },
   "file_extension": ".py",
   "mimetype": "text/x-python",
   "name": "python",
   "nbconvert_exporter": "python",
   "pygments_lexer": "ipython3",
   "version": "3.10.16"
  }
 },
 "nbformat": 4,
 "nbformat_minor": 2
}
